{
 "cells": [
  {
   "cell_type": "code",
   "execution_count": 3,
   "metadata": {},
   "outputs": [
    {
     "ename": "AttributeError",
     "evalue": "module 'math' has no attribute 'hypotenuse'",
     "output_type": "error",
     "traceback": [
      "\u001b[0;31m---------------------------------------------------------------------------\u001b[0m",
      "\u001b[0;31mAttributeError\u001b[0m                            Traceback (most recent call last)",
      "Cell \u001b[0;32mIn[3], line 3\u001b[0m\n\u001b[1;32m      1\u001b[0m \u001b[39mimport\u001b[39;00m \u001b[39mmath\u001b[39;00m\n\u001b[0;32m----> 3\u001b[0m math\u001b[39m.\u001b[39;49mhypotenuse(\u001b[39m3\u001b[39m,\u001b[39m4\u001b[39m)\n",
      "\u001b[0;31mAttributeError\u001b[0m: module 'math' has no attribute 'hypotenuse'"
     ]
    }
   ],
   "source": [
    "import math\n",
    "\n",
    "math.hypotenuse(3,4)\n",
    "\n"
   ]
  }
 ],
 "metadata": {
  "kernelspec": {
   "display_name": "Python 3",
   "language": "python",
   "name": "python3"
  },
  "language_info": {
   "codemirror_mode": {
    "name": "ipython",
    "version": 3
   },
   "file_extension": ".py",
   "mimetype": "text/x-python",
   "name": "python",
   "nbconvert_exporter": "python",
   "pygments_lexer": "ipython3",
   "version": "3.9.13"
  },
  "orig_nbformat": 4,
  "vscode": {
   "interpreter": {
    "hash": "21e85d556c0bc04fc2e917b00bd757e316faa94474bf2750d04374887fc05f56"
   }
  }
 },
 "nbformat": 4,
 "nbformat_minor": 2
}
